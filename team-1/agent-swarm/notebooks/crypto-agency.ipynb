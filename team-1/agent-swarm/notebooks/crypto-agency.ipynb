{
 "cells": [
  {
   "cell_type": "markdown",
   "metadata": {},
   "source": [
    "# Team 1, Agency Swarm, Basic\n",
    "## 1. Installation"
   ]
  },
  {
   "cell_type": "code",
   "execution_count": null,
   "metadata": {},
   "outputs": [],
   "source": [
    "#pip install agency-swarm"
   ]
  },
  {
   "cell_type": "markdown",
   "metadata": {},
   "source": [
    "## 2. Environment"
   ]
  },
  {
   "cell_type": "code",
   "execution_count": null,
   "metadata": {},
   "outputs": [],
   "source": [
    "from agency_swarm import set_openai_key\n",
    "set_openai_key(\"YOUR_API_KEY\")"
   ]
  },
  {
   "cell_type": "markdown",
   "metadata": {},
   "source": [
    "# 3. Tools"
   ]
  },
  {
   "cell_type": "code",
   "execution_count": null,
   "metadata": {},
   "outputs": [],
   "source": [
    "from agency_swarm.tools import BaseTool\n",
    "from pydantic import Field"
   ]
  },
  {
   "cell_type": "markdown",
   "metadata": {},
   "source": [
    "# 4. Agents"
   ]
  },
  {
   "cell_type": "code",
   "execution_count": null,
   "metadata": {},
   "outputs": [],
   "source": [
    "from agency_swarm import Agent\n",
    "\n",
    "agency_instructions = \"../instructions/agency_instructions.md\"\n",
    "ceo_instructions = \"../instructions/agents/systems/ceo.md\"\n",
    "marketAnalyst_instructions = \"../instructions/agents/systems/marketAnalyst.md\"\n",
    "fundamentalResearchAnalyst_instructions = \"../instructions/agents/systems/fundamentalResearchAnalyst.md\"\n",
    "investmentResearchAnalyst_instructions = \"../instructions/agents/systems/investmentResearchAnalyst.md\"\n",
    "riskManagementSpecialist_instructions = \"../instructions/agents/systems/riskManagementSpecialist.md\"\n",
    "socialMediaAnalyst_instructions = \"../instructions/agents/systems/socialMediaAnalyst.md\"\n",
    "\n",
    "ceo = Agent(name=\"CEO\",\n",
    "    description=\"Leads Crypto Sphere Research, overseeing strategic planning, client management, and report compilation.\",\n",
    "    instructions=ceo_instructions, # can be a file like ./instructions.md\n",
    "    files_folder=\"./files\", # files to be uploaded to OpenAI\n",
    "    schemas_folder=\"./schemas\", # OpenAPI schemas to be converted into tools\n",
    "    tools=[MyCustomTool]\n",
    ")\n",
    "\n",
    "marketAnalyst = Agent(name=\"MarketAnalyst\",\n",
    "    description=\"Provides market insights, analyzing price movements, trading volumes, and technical indicators.\",\n",
    "    instructions=marketAnalyst_instructions, # can be a file like ./instructions.md\n",
    "    files_folder=\"./files\", # files to be uploaded to OpenAI\n",
    "    schemas_folder=\"./schemas\", # OpenAPI schemas to be converted into tools\n",
    "    tools=[MyCustomTool]\n",
    ")\n",
    "\n",
    "fundamentalResearchAnalyst = Agent(name=\"FundamentalResearch Analyst\",\n",
    "    description=\"Conducts in-depth research on crypto projects, analyzing news, events, and on-chain data.\",\n",
    "    instructions=fundamentalResearchAnalyst_instructions, # can be a file like ./instructions.md\n",
    "    files_folder=\"./files\", # files to be uploaded to OpenAI\n",
    "    schemas_folder=\"./schemas\", # OpenAPI schemas to be converted into tools\n",
    "    tools=[MyCustomTool]\n",
    ")\n",
    "\n",
    "investmentResearchAnalyst = Agent(name=\"InvestmentResearchAnalyst\",\n",
    "    description=\"Identifies emerging projects and opportunities, assessing growth potential and risk factors.\",\n",
    "    instructions=investmentResearchAnalyst_instructions, # can be a file like ./instructions.md\n",
    "    files_folder=\"./files\", # files to be uploaded to OpenAI\n",
    "    schemas_folder=\"./schemas\", # OpenAPI schemas to be converted into tools\n",
    "    tools=[MyCustomTool]\n",
    ")\n",
    "\n",
    "riskManagementSpecialist = Agent(name=\"RiskManagementSpecialist\",\n",
    "    description=\"Evaluates and mitigates potential risks, ensuring informed investment decisions for clients.\",\n",
    "    instructions=riskManagementSpecialist_instructions, # can be a file like ./instructions.md\n",
    "    files_folder=\"./files\", # files to be uploaded to OpenAI\n",
    "    schemas_folder=\"./schemas\", # OpenAPI schemas to be converted into tools\n",
    "    tools=[MyCustomTool]\n",
    ")\n",
    "\n",
    "socialMediaAnalyst = Agent(name=\"SocialMediaAnalyst\",\n",
    "    description=\"Tracks and analyzes social media trends, sentiment, and influencer activity.\",\n",
    "    instructions=socialMediaAnalyst_instructions, # can be a file like ./instructions.md\n",
    "    files_folder=\"./files\", # files to be uploaded to OpenAI\n",
    "    schemas_folder=\"./schemas\", # OpenAPI schemas to be converted into tools\n",
    "    tools=[MyCustomTool]\n",
    ")"
   ]
  },
  {
   "cell_type": "markdown",
   "metadata": {},
   "source": [
    "## 5. Agency"
   ]
  },
  {
   "cell_type": "code",
   "execution_count": null,
   "metadata": {},
   "outputs": [],
   "source": [
    "from agency_swarm import Agency\n",
    "\n",
    "agency = Agency([\n",
    "    ceo,  # CEO will be the entry point for communication with the user\n",
    "    [ceo, marketAnalyst],\n",
    "    [ceo, fundamentalResearchAnalyst],\n",
    "    [ceo, investmentResearchAnalyst],\n",
    "    [ceo, riskManagementSpecialist],\n",
    "    [ceo, socialMediaAnalyst]\n",
    "], shared_instructions=agency_instructions) # shared instructions for all agents"
   ]
  },
  {
   "cell_type": "markdown",
   "metadata": {},
   "source": [
    "## 6. UX/UI"
   ]
  },
  {
   "cell_type": "code",
   "execution_count": null,
   "metadata": {},
   "outputs": [],
   "source": [
    "agency.demo_gradio(height=900)"
   ]
  }
 ],
 "metadata": {
  "kernelspec": {
   "display_name": ".cre",
   "language": "python",
   "name": "python3"
  },
  "language_info": {
   "name": "python",
   "version": "3.11.2"
  }
 },
 "nbformat": 4,
 "nbformat_minor": 2
}
