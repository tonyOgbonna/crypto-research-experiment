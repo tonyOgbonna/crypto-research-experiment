{
 "cells": [
  {
   "cell_type": "markdown",
   "metadata": {},
   "source": [
    "# Set your API Endpoint"
   ]
  },
  {
   "cell_type": "code",
   "execution_count": null,
   "metadata": {},
   "outputs": [],
   "source": [
    "import autogen\n",
    "from pathlib import Path\n",
    "\n",
    "config_list_gpt4 = autogen.config_list_from_json(\n",
    "    \"OAI_CONFIG_LIST\",\n",
    "    filter_dict={\n",
    "        \"model\": [\"gpt-4-0125-preview\", \"gpt-3.5-turbo\"],\n",
    "    },\n",
    ")"
   ]
  },
  {
   "cell_type": "markdown",
   "metadata": {},
   "source": [
    "# Construct Agents"
   ]
  },
  {
   "cell_type": "code",
   "execution_count": null,
   "metadata": {},
   "outputs": [],
   "source": [
    "gpt4_config = {\n",
    "    \"cache_seed\": 42,  # change the cache_seed for different trials\n",
    "    \"temperature\": 0,\n",
    "    \"config_list\": config_list_gpt4,\n",
    "    \"timeout\": 120,\n",
    "}\n",
    "\n",
    "user_proxy = autogen.UserProxyAgent(\n",
    "    name=\"Client\",\n",
    "    system_message=\"A human client. Interact with the CEO to discuss your Crypto report needs.\",\n",
    "    code_execution_config=False,\n",
    ")\n",
    "\n",
    "ABS_PATH: Path = Path(__file__).parent.absolute()\n",
    "agency_system_message = ABS_PATH.joinpath(\"instructions/agency_system_message.md\").open(\"r\").read()\n",
    "ceo_system_message = ABS_PATH.joinpath(\"instructions/agents/systems/ceo.md\").open(\"r\").read()\n",
    "marketAnalyst_system_message = ABS_PATH.joinpath(\"instructions/agents/systems/marketAnalyst.md\").open(\"r\").read()\n",
    "fundamentalResearchAnalyst_system_message = ABS_PATH.joinpath(\"instructions/agents/systems/fundamentalResearchAnalyst.md\").open(\"r\").read()\n",
    "investmentResearchAnalyst_system_message = ABS_PATH.joinpath(\"instructions/agents/systems/investmentResearchAnalyst.md\").open(\"r\").read()\n",
    "riskManagementSpecialist_system_message = ABS_PATH.joinpath(\"instructions/agents/systems/riskManagementSpecialist.md\").open(\"r\").read()\n",
    "socialMediaAnalyst_system_message = ABS_PATH.joinpath(\"instructions/agents/systems/socialMediaAnalyst.md\").open(\"r\").read()\n",
    "\n",
    "ceo = autogen.AssistantAgent(\n",
    "    name=\"CEO\",\n",
    "    llm_config=gpt4_config,\n",
    "    system_message=ceo_system_message + \"\\n\\nUse the following as the corporate official guide:\\n\\n\" + agency_system_message,\n",
    ")\n",
    "\n",
    "marketAnalyst = autogen.AssistantAgent(\n",
    "    name=\"Market Analyst\",\n",
    "    llm_config=gpt4_config,\n",
    "    system_message=marketAnalyst_system_message,\n",
    ")\n",
    "\n",
    "fundamentalResearchAnalyst = autogen.AssistantAgent(\n",
    "    name=\"Fundamental Research Analyst\",\n",
    "    llm_config=gpt4_config,\n",
    "    system_message=fundamentalResearchAnalyst_system_message,\n",
    ")\n",
    "\n",
    "investmentResearchAnalyst = autogen.AssistantAgent(\n",
    "    name=\"Investment Research Analyst\",\n",
    "    llm_config=gpt4_config,\n",
    "    system_message=investmentResearchAnalyst_system_message,\n",
    ")\n",
    "\n",
    "riskManagementSpecialist = autogen.AssistantAgent(\n",
    "    name=\"Risk Management Specialist\",\n",
    "    llm_config=gpt4_config,\n",
    "    system_message=riskManagementSpecialist_system_message,\n",
    ")\n",
    "\n",
    "socialMediaAnalyst = autogen.AssistantAgent(\n",
    "    name=\"Social Media Analyst\",\n",
    "    llm_config=gpt4_config,\n",
    "    system_message=socialMediaAnalyst_system_message,\n",
    ")\n",
    "\n",
    "groupchat = autogen.GroupChat(\n",
    "    agents=[user_proxy, ceo, marketAnalyst, fundamentalResearchAnalyst, investmentResearchAnalyst, riskManagementSpecialist, socialMediaAnalyst], messages=[], max_round=50\n",
    ")\n",
    "\n",
    "manager = autogen.GroupChatManager(groupchat=groupchat, llm_config=gpt4_config)"
   ]
  },
  {
   "cell_type": "markdown",
   "metadata": {},
   "source": [
    "# Start Chat"
   ]
  },
  {
   "cell_type": "code",
   "execution_count": null,
   "metadata": {},
   "outputs": [],
   "source": [
    "user_proxy.initiate_chat(\n",
    "    manager,\n",
    "    message=\"\"\"\n",
    "I want a general report on the crypto market for today.\n",
    "\"\"\",\n",
    ")"
   ]
  }
 ],
 "metadata": {
  "kernelspec": {
   "display_name": ".venv",
   "language": "python",
   "name": "python3"
  },
  "language_info": {
   "name": "python",
   "version": "3.11.2"
  }
 },
 "nbformat": 4,
 "nbformat_minor": 2
}
