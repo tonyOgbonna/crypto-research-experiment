{
 "cells": [
  {
   "cell_type": "markdown",
   "metadata": {},
   "source": [
    "# Cryptocurrency Analysis and Reporting Agency\n",
    "## 1. Setups and Environments"
   ]
  },
  {
   "cell_type": "code",
   "execution_count": null,
   "metadata": {},
   "outputs": [],
   "source": [
    "import os\n",
    "from crewai import Agent, Task, Crew\n",
    "# Importing crewAI tools\n",
    "from crewai_tools import (\n",
    "    DirectoryReadTool,\n",
    "    FileReadTool,\n",
    "    SerperDevTool,\n",
    "    WebsiteSearchTool\n",
    ")\n",
    "\n",
    "# Set up API keys\n",
    "os.environ[\"SERPER_API_KEY\"] = \"Your Key\" # serper.dev API key\n",
    "os.environ[\"OPENAI_API_KEY\"] = \"Your Key\"\n"
   ]
  },
  {
   "cell_type": "markdown",
   "metadata": {},
   "source": [
    "## 2. Tools"
   ]
  },
  {
   "cell_type": "code",
   "execution_count": null,
   "metadata": {},
   "outputs": [],
   "source": [
    "# Instantiate tools\n",
    "docs_tool = DirectoryReadTool(directory='./blog-posts')\n",
    "file_tool = FileReadTool()\n",
    "search_tool = SerperDevTool()\n",
    "web_rag_tool = WebsiteSearchTool()\n"
   ]
  },
  {
   "cell_type": "markdown",
   "metadata": {},
   "source": [
    "## 3. Agents"
   ]
  },
  {
   "cell_type": "code",
   "execution_count": null,
   "metadata": {},
   "outputs": [],
   "source": [
    "# Create agents\n",
    "ceo = Agent(\n",
    "    role='CEO',\n",
    "    goal='',\n",
    "    backstory='',\n",
    "    tools=[search_tool, web_rag_tool],\n",
    "    verbose=True\n",
    ")\n",
    "\n",
    "marketAnalyst = Agent(\n",
    "    role='Market Analyst',\n",
    "    goal='',\n",
    "    backstory='',\n",
    "    tools=[docs_tool, file_tool],\n",
    "    verbose=True\n",
    ")\n",
    "\n",
    "fundamentalResearchAnalyst = Agent(\n",
    "    role='Fundamental Research Analyst',\n",
    "    goal='',\n",
    "    backstory='',\n",
    "    tools=[search_tool, web_rag_tool],\n",
    "    verbose=True\n",
    ")\n",
    "\n",
    "investmentResearchAnalyst = Agent(\n",
    "    role='Investment Research Analyst',\n",
    "    goal='',\n",
    "    backstory='',\n",
    "    tools=[docs_tool, file_tool],\n",
    "    verbose=True\n",
    ")\n",
    "\n",
    "riskManagementSpecialist = Agent(\n",
    "    role='Risk Management Specialist',\n",
    "    goal='',\n",
    "    backstory='',\n",
    "    tools=[search_tool, web_rag_tool],\n",
    "    verbose=True\n",
    ")\n",
    "\n",
    "socialMediaAnalyst = Agent(\n",
    "    role='Social Media Analyst',\n",
    "    goal='',\n",
    "    backstory='',\n",
    "    tools=[docs_tool, file_tool],\n",
    "    verbose=True\n",
    ")\n"
   ]
  },
  {
   "cell_type": "markdown",
   "metadata": {},
   "source": [
    "## 4. Tasks"
   ]
  },
  {
   "cell_type": "code",
   "execution_count": null,
   "metadata": {},
   "outputs": [],
   "source": [
    "# Define tasks\n",
    "ceo_task = Task(\n",
    "    description='',\n",
    "    expected_output='',\n",
    "    agent=ceo,\n",
    "    output_file='reports/crypto-market-report-final.md'  # The task result will be saved here\n",
    ")\n",
    "\n",
    "market_analysis_task = Task(\n",
    "    description='',\n",
    "    expected_output='',\n",
    "    agent=marketAnalyst,\n",
    "    output_file='reports/market-analysis-report.md'  # The task result will be saved here\n",
    ")\n",
    "\n",
    "fundamental_research_task = Task(\n",
    "    description='',\n",
    "    expected_output='',\n",
    "    agent=fundamentalResearchAnalyst,\n",
    "    output_file='reports/fundamental-research-report.md'  # The task result will be saved here\n",
    ")\n",
    "\n",
    "investment_research_task = Task(\n",
    "    description='',\n",
    "    expected_output='',\n",
    "    agent=investmentResearchAnalyst,\n",
    "    output_file='reports/investment-research-report.md'  # The task result will be saved here\n",
    ")\n",
    "\n",
    "risk_management_assessment_task = Task(\n",
    "    description='',\n",
    "    expected_output='',\n",
    "    agent=riskManagementSpecialist,\n",
    "    output_file='reports/risk-management-assessment-report.md'  # The task result will be saved here\n",
    ")\n",
    "\n",
    "social_media_analysis_task = Task(\n",
    "    description='',\n",
    "    expected_output='',\n",
    "    agent=socialMediaAnalyst,\n",
    "    output_file='reports/ocial-media-analysis-report.md'  # The task result will be saved here\n",
    ")\n"
   ]
  },
  {
   "cell_type": "markdown",
   "metadata": {},
   "source": [
    "## 5. Crew"
   ]
  },
  {
   "cell_type": "code",
   "execution_count": null,
   "metadata": {},
   "outputs": [],
   "source": [
    "\n",
    "# Assemble a crew\n",
    "crew = Crew(\n",
    "    agents=[ceo, marketAnalyst, fundamentalResearchAnalyst, investmentResearchAnalyst, riskManagementSpecialist, socialMediaAnalyst],\n",
    "    tasks=[market_analysis_task, fundamental_research_task, investment_research_task, risk_management_assessment_task, social_media_analysis_task, ceo_task],\n",
    "    verbose=2\n",
    ")\n"
   ]
  },
  {
   "cell_type": "markdown",
   "metadata": {},
   "source": [
    "## 6. Execute"
   ]
  },
  {
   "cell_type": "code",
   "execution_count": null,
   "metadata": {},
   "outputs": [],
   "source": [
    "# Execute tasks\n",
    "crew.kickoff()"
   ]
  }
 ],
 "metadata": {
  "kernelspec": {
   "display_name": ".cre",
   "language": "python",
   "name": "python3"
  },
  "language_info": {
   "name": "python",
   "version": "3.11.2"
  }
 },
 "nbformat": 4,
 "nbformat_minor": 2
}
